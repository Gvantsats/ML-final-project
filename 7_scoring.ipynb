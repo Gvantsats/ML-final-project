{
 "cells": [
  {
   "cell_type": "markdown",
   "metadata": {},
   "source": [
    "# Read Network Info from file"
   ]
  },
  {
   "cell_type": "code",
   "execution_count": 8,
   "metadata": {},
   "outputs": [],
   "source": [
    "import pickle\n",
    "import cv2\n",
    "import os\n",
    "import numpy as np\n",
    "import csv"
   ]
  },
  {
   "cell_type": "code",
   "execution_count": 9,
   "metadata": {},
   "outputs": [],
   "source": [
    "def sigmoid(s):\n",
    "    return 1.0 / (np.exp(-s) + 1.0)\n",
    "\n",
    "# Forward propagation\n",
    "def forward(data , weights , biases):\n",
    "    data = data.reshape(data.shape[0], 1)\n",
    "    curr = data\n",
    "    for i in range(len(biases)):\n",
    "        bias = biases[i]\n",
    "        weight = weights[i]\n",
    "        mult = np.dot(weight , curr)\n",
    "        curr = sigmoid(mult + bias)\n",
    "        \n",
    "    return curr"
   ]
  },
  {
   "cell_type": "code",
   "execution_count": 10,
   "metadata": {},
   "outputs": [],
   "source": [
    "# saving network information from model\n",
    "filename = \"7_model.sav\"\n",
    "    \n",
    "with open(filename , 'rb') as file:\n",
    "    net_info = pickle.load(file)                    \n",
    "    weights = net_info[\"weights\"]           \n",
    "    biases = net_info[\"biases\"] "
   ]
  },
  {
   "cell_type": "markdown",
   "metadata": {},
   "source": [
    "# Classify test data"
   ]
  },
  {
   "cell_type": "code",
   "execution_count": 11,
   "metadata": {},
   "outputs": [],
   "source": [
    "label_names = ['უ', 'ყ', 'მ', 'შ', 'ძ', 'წ', 'ს', 'ხ', 'ლ', 'ჩ' , '-']\n",
    "def classify(data , weights , biases):\n",
    "        ans = forward(data , weights , biases)\n",
    "        res = [0] * len(ans)\n",
    "        ind = -1\n",
    "        for i in range(len(ans)):\n",
    "            if ans[i] > 0.5:\n",
    "                res[i] = 1\n",
    "                ind = i\n",
    "            else:\n",
    "                res[i] = 0\n",
    "        if (sum(res) > 1):\n",
    "            return '-'\n",
    "        return label_names[ind]"
   ]
  },
  {
   "cell_type": "code",
   "execution_count": 12,
   "metadata": {},
   "outputs": [],
   "source": [
    "root_folder = \"./data/ასოები/testing_data/\"\n",
    "data_list = []\n",
    "for image_name in os.listdir(root_folder):\n",
    "    img = cv2.imread(root_folder + image_name, cv2.IMREAD_GRAYSCALE)\n",
    "    resized = cv2.resize(img, dsize=(25, 25), interpolation=cv2.INTER_CUBIC)\n",
    "    reshaped = resized.reshape((625, 1))\n",
    "    data_list.append((reshaped, image_name))\n"
   ]
  },
  {
   "cell_type": "code",
   "execution_count": 13,
   "metadata": {},
   "outputs": [
    {
     "name": "stderr",
     "output_type": "stream",
     "text": [
      "C:\\Users\\dimit\\AppData\\Local\\Programs\\Python\\Python37-32\\lib\\site-packages\\ipykernel_launcher.py:2: RuntimeWarning: overflow encountered in exp\n",
      "  \n"
     ]
    }
   ],
   "source": [
    "classified_data = []\n",
    "for data, img_name in data_list:\n",
    "    classified_label = classify(data, weights, biases)\n",
    "    classified_data.append((img_name,classified_label))"
   ]
  },
  {
   "cell_type": "code",
   "execution_count": 14,
   "metadata": {},
   "outputs": [],
   "source": [
    "with open('./out.csv', 'w', newline='') as myfile:\n",
    "    wr = csv.writer(myfile, quoting=csv.QUOTE_ALL)\n",
    "    for name, label in classified_data:\n",
    "        wr.writerow([name,label])"
   ]
  }
 ],
 "metadata": {
  "kernelspec": {
   "display_name": "Python 3",
   "language": "python",
   "name": "python3"
  },
  "language_info": {
   "codemirror_mode": {
    "name": "ipython",
    "version": 3
   },
   "file_extension": ".py",
   "mimetype": "text/x-python",
   "name": "python",
   "nbconvert_exporter": "python",
   "pygments_lexer": "ipython3",
   "version": "3.7.2"
  }
 },
 "nbformat": 4,
 "nbformat_minor": 2
}
