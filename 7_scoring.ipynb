{
 "cells": [
  {
   "cell_type": "markdown",
   "metadata": {},
   "source": [
    "# Read Network Infro from file"
   ]
  },
  {
   "cell_type": "code",
   "execution_count": 6,
   "metadata": {},
   "outputs": [],
   "source": [
    "import pickle"
   ]
  },
  {
   "cell_type": "code",
   "execution_count": 3,
   "metadata": {},
   "outputs": [],
   "source": [
    "def sigmoid(s):\n",
    "    return 1.0 / (np.exp(-s) + 1.0)\n",
    "\n",
    "# Forward propagation\n",
    "def forward(self, data , weights , biases):\n",
    "    data = data.reshape(data.shape[0] , 1)\n",
    "    curr = data\n",
    "    for i in range(len(biases)):\n",
    "        bias = biases[i]\n",
    "        weight = weights[i]\n",
    "        mult = np.dot(weight , curr)\n",
    "        curr = sigmoid(mult + bias)\n",
    "        \n",
    "    return curr"
   ]
  },
  {
   "cell_type": "code",
   "execution_count": 8,
   "metadata": {},
   "outputs": [
    {
     "name": "stdout",
     "output_type": "stream",
     "text": [
      "[array([[-0.09085089,  1.12595131, -1.66841251, ...,  0.72131562,\n",
      "        -2.11285628, -1.73723389],\n",
      "       [-0.91152819, -0.05166581, -1.27351039, ..., -0.33750432,\n",
      "        -0.36386431, -0.26559395],\n",
      "       [-0.03012353,  0.70160635,  1.3391776 , ..., -1.21694567,\n",
      "         0.16454915,  1.59089998]]), array([[ 0.22513063,  1.34087165, -1.00520462]])]\n"
     ]
    }
   ],
   "source": [
    "# saving network information from model\n",
    "filename = \"7_model.sav\"\n",
    "    \n",
    "with open(filename , 'rb') as file:\n",
    "    net_info = pickle.load(file)                    \n",
    "    weights = net_info[\"weights\"]           \n",
    "    biases = net_info[\"biases\"] "
   ]
  },
  {
   "cell_type": "markdown",
   "metadata": {},
   "source": [
    "# Classify test data"
   ]
  },
  {
   "cell_type": "code",
   "execution_count": null,
   "metadata": {},
   "outputs": [],
   "source": []
  }
 ],
 "metadata": {
  "kernelspec": {
   "display_name": "Python 3",
   "language": "python",
   "name": "python3"
  },
  "language_info": {
   "codemirror_mode": {
    "name": "ipython",
    "version": 3
   },
   "file_extension": ".py",
   "mimetype": "text/x-python",
   "name": "python",
   "nbconvert_exporter": "python",
   "pygments_lexer": "ipython3",
   "version": "3.6.5"
  }
 },
 "nbformat": 4,
 "nbformat_minor": 2
}
